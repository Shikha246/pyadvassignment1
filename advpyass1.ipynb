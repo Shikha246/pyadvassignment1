{
 "cells": [
  {
   "cell_type": "markdown",
   "id": "64518476",
   "metadata": {},
   "source": [
    "Q1. What is the purpose of Python&#39;s OOP?"
   ]
  },
  {
   "cell_type": "markdown",
   "id": "bce22da7",
   "metadata": {},
   "source": [
    "Everything in python can be represented in the form of classes and objects. Classes are the blueprint and have multiple methods and attribute.We can access all the methods and attributes of a class by creating the object of the class."
   ]
  },
  {
   "cell_type": "markdown",
   "id": "3fc6cec2",
   "metadata": {},
   "source": [
    "Q2. Where does an inheritance search look for an attribute?"
   ]
  },
  {
   "cell_type": "markdown",
   "id": "38101ee2",
   "metadata": {},
   "source": [
    "When we are trying to inherit a class. The object of the child class can access the attributes and methods of parent class as well as from the child class."
   ]
  },
  {
   "cell_type": "markdown",
   "id": "217cb68a",
   "metadata": {},
   "source": [
    "Q3. How do you distinguish between a class object and an instance object?"
   ]
  },
  {
   "cell_type": "markdown",
   "id": "9355ecbc",
   "metadata": {},
   "source": [
    "class object is the blueprint of the methods and attribute of the class. whereas the objects are the instance of the blueprint. We create blueprint only once but can create multiple instances of blueprint."
   ]
  },
  {
   "cell_type": "markdown",
   "id": "473a56e1",
   "metadata": {},
   "source": [
    "Q4. What makes the first argument in a class’s method function special?"
   ]
  },
  {
   "cell_type": "markdown",
   "id": "84bd235e",
   "metadata": {},
   "source": [
    "The first argument in the class's method function is self which can be any name but conventionally we write self. self acts like a pointer because whenever we create an object of a class. The object passes through the class so it needs a variable to store which is self."
   ]
  },
  {
   "cell_type": "markdown",
   "id": "d778f3c0",
   "metadata": {},
   "source": [
    "Q5. What is the purpose of the __init__ method?"
   ]
  },
  {
   "cell_type": "markdown",
   "id": "3b0ec20b",
   "metadata": {},
   "source": [
    "This is a special method and it initializes the attributes that are needed in the methods of a class."
   ]
  },
  {
   "cell_type": "markdown",
   "id": "9ef7c453",
   "metadata": {},
   "source": [
    "Q6. What is the process for creating a class instance?"
   ]
  },
  {
   "cell_type": "markdown",
   "id": "8c661213",
   "metadata": {},
   "source": [
    "We create the instance of a class so that we can reuse the code wherever needed. Also we can access all rhe methods of the class."
   ]
  },
  {
   "cell_type": "markdown",
   "id": "6a8f0b85",
   "metadata": {},
   "source": [
    "Q7. What is the process for creating a class?"
   ]
  },
  {
   "cell_type": "markdown",
   "id": "07541dc0",
   "metadata": {},
   "source": [
    "we use class keyword to declare a class.We initialize the attributes using init function and the we create the methods inside the class.\n",
    "\n"
   ]
  },
  {
   "cell_type": "code",
   "execution_count": 11,
   "id": "c8a3eed1",
   "metadata": {},
   "outputs": [],
   "source": [
    "class Parent:\n",
    "    def __init__(self,name,address):\n",
    "        self.name=name\n",
    "        self.address=address\n",
    "    def tellname(self):\n",
    "        print(\"My name is\",self.name)\n",
    "    def telladdress(self):\n",
    "        print(\"My address is \",self.address)"
   ]
  },
  {
   "cell_type": "code",
   "execution_count": 13,
   "id": "7ce68daf",
   "metadata": {},
   "outputs": [],
   "source": [
    "obj1=Parent(\"shikha\",\"shiv shakti niwas\")"
   ]
  },
  {
   "cell_type": "code",
   "execution_count": 14,
   "id": "db368faf",
   "metadata": {},
   "outputs": [
    {
     "name": "stdout",
     "output_type": "stream",
     "text": [
      "My name is shikha\n"
     ]
    }
   ],
   "source": [
    "obj1.tellname()"
   ]
  },
  {
   "cell_type": "code",
   "execution_count": 15,
   "id": "10d15b83",
   "metadata": {},
   "outputs": [
    {
     "name": "stdout",
     "output_type": "stream",
     "text": [
      "My address is  shiv shakti niwas\n"
     ]
    }
   ],
   "source": [
    "obj1.telladdress()"
   ]
  },
  {
   "cell_type": "markdown",
   "id": "efadca93",
   "metadata": {},
   "source": [
    "Q8. How would you define the superclasses of a class?"
   ]
  },
  {
   "cell_type": "markdown",
   "id": "38199488",
   "metadata": {},
   "source": [
    "The class which is derived from the parent class is known as child class,derived class, subclass or extended class.The class from which the subclass is derived is called as baseclass,superclass or parent class"
   ]
  },
  {
   "cell_type": "code",
   "execution_count": null,
   "id": "a0de6222",
   "metadata": {},
   "outputs": [],
   "source": []
  }
 ],
 "metadata": {
  "kernelspec": {
   "display_name": "Python 3 (ipykernel)",
   "language": "python",
   "name": "python3"
  },
  "language_info": {
   "codemirror_mode": {
    "name": "ipython",
    "version": 3
   },
   "file_extension": ".py",
   "mimetype": "text/x-python",
   "name": "python",
   "nbconvert_exporter": "python",
   "pygments_lexer": "ipython3",
   "version": "3.9.7"
  }
 },
 "nbformat": 4,
 "nbformat_minor": 5
}
